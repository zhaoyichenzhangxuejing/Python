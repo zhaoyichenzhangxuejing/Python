{
 "cells": [
  {
   "cell_type": "code",
   "execution_count": 1,
   "metadata": {},
   "outputs": [
    {
     "name": "stdout",
     "output_type": "stream",
     "text": [
      "请输入中心距离5.5\n",
      "71.923649044821\n"
     ]
    }
   ],
   "source": [
    "#1.算出五边形的面积\n",
    "import math\n",
    "\n",
    "r = eval(input('请输入中心距离'))\n",
    "s = 2*r*(math.sin(math.pi/5))\n",
    "Area = 5*s*s/(4*math.tan(math.pi/5))\n",
    "print(Area)"
   ]
  },
  {
   "cell_type": "code",
   "execution_count": 3,
   "metadata": {},
   "outputs": [
    {
     "name": "stdout",
     "output_type": "stream",
     "text": [
      "请输入经度39.55,-116.25\n",
      "请输入纬度41.5,87.37\n",
      "请输入半径6371.0\n",
      "10691.77505037424\n"
     ]
    }
   ],
   "source": [
    "#输入地球表面两点经度和纬度的度数然后显示他们的大圆距离\n",
    "import math\n",
    "\n",
    "x1,y1 = eval(input('请输入经度'))\n",
    "x2,y2 = eval(input('请输入纬度'))\n",
    "radius = eval(input('请输入半径'))\n",
    "a = math.sin(math.radians(x1))*math.sin(math.radians(x2))\n",
    "b = math.cos(math.radians(x1))*math.cos(math.radians(x2))*math.cos(math.radians(y1-y2))\n",
    "d = radius*math.acos(a+b)\n",
    "print(d)                     "
   ]
  },
  {
   "cell_type": "code",
   "execution_count": 4,
   "metadata": {},
   "outputs": [
    {
     "name": "stdout",
     "output_type": "stream",
     "text": [
      "请输入边长5.5\n",
      "52.044441367816255\n"
     ]
    }
   ],
   "source": [
    "#输入五角形的边长，然后显示面积\n",
    "import math\n",
    "s = eval(input('请输入边长'))\n",
    "A1 = 5*s**2\n",
    "A2 = 4*math.tan(math.pi/5)\n",
    "Area = A1/A2\n",
    "print(Area)"
   ]
  },
  {
   "cell_type": "code",
   "execution_count": 5,
   "metadata": {},
   "outputs": [
    {
     "name": "stdout",
     "output_type": "stream",
     "text": [
      "请输入边数5\n",
      "请输入边长6.5\n",
      "72.69017017488386\n"
     ]
    }
   ],
   "source": [
    "#输入边数以及正多边形边长，显示他们的面积\n",
    "import math\n",
    "\n",
    "n = eval(input('请输入边数'))\n",
    "s = eval(input('请输入边长'))\n",
    "Area = (n*s**2)/(4*math.tan(math.pi/n))\n",
    "print(Area)"
   ]
  },
  {
   "cell_type": "code",
   "execution_count": 6,
   "metadata": {},
   "outputs": [
    {
     "name": "stdout",
     "output_type": "stream",
     "text": [
      "请输入整数69\n"
     ]
    },
    {
     "data": {
      "text/plain": [
       "'E'"
      ]
     },
     "execution_count": 6,
     "metadata": {},
     "output_type": "execute_result"
    }
   ],
   "source": [
    "#接受一个ASCII码，显示对应的字符\n",
    "a = eval(input('请输入整数'))\n",
    "chr(a)"
   ]
  },
  {
   "cell_type": "code",
   "execution_count": 10,
   "metadata": {},
   "outputs": [
    {
     "name": "stdout",
     "output_type": "stream",
     "text": [
      "请输入姓名smith\n",
      "请输入工作时间10\n",
      "请输入支付钱数9.75\n",
      "请输入联邦预扣税率0.20\n",
      "请输入州预扣税率0.09\n",
      "69.225\n"
     ]
    }
   ],
   "source": [
    "#读取下面信息，打印一个工资报表\n",
    "name = input('请输入姓名')\n",
    "worked = eval(input('请输入工作时间'))\n",
    "pay = eval(input('请输入支付钱数'))\n",
    "federal = eval(input('请输入联邦预扣税率'))\n",
    "state = eval(input('请输入州预扣税率'))\n",
    "net = (pay*worked) - ((federal*pay*worked)+state*pay*worked)\n",
    "print(net)"
   ]
  },
  {
   "cell_type": "code",
   "execution_count": 11,
   "metadata": {},
   "outputs": [
    {
     "name": "stdout",
     "output_type": "stream",
     "text": [
      "5 2 1 3\n"
     ]
    }
   ],
   "source": [
    "#反向数字\n",
    "a = 3125\n",
    "b = a %312\n",
    "c = a//10%31\n",
    "d = a//100%3\n",
    "e = a//1000\n",
    "print(b,c,d,e)"
   ]
  },
  {
   "cell_type": "markdown",
   "metadata": {},
   "source": []
  }
 ],
 "metadata": {
  "kernelspec": {
   "display_name": "Python 3",
   "language": "python",
   "name": "python3"
  },
  "language_info": {
   "codemirror_mode": {
    "name": "ipython",
    "version": 3
   },
   "file_extension": ".py",
   "mimetype": "text/x-python",
   "name": "python",
   "nbconvert_exporter": "python",
   "pygments_lexer": "ipython3",
   "version": "3.7.3"
  }
 },
 "nbformat": 4,
 "nbformat_minor": 2
}
