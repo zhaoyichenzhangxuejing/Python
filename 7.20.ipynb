{
 "cells": [
  {
   "cell_type": "markdown",
   "metadata": {},
   "source": [
    "# 函数\n",
    "\n",
    "- 函数可以用来定义可重复代码，组织和简化\n",
    "- 一般来说一个函数在实际开发中为一个小功能\n",
    "- 一个类为一个大功能\n",
    "- 同样函数的长度不要超过一屏"
   ]
  },
  {
   "cell_type": "markdown",
   "metadata": {},
   "source": [
    "Python中的所有函数实际上都是有返回值(return None),\n",
    "\n",
    "如果你没有设置return,那么Python将不显示None.\n",
    "\n",
    "如果你设置return,那么将返回出return这个值."
   ]
  },
  {
   "cell_type": "code",
   "execution_count": 16,
   "metadata": {},
   "outputs": [],
   "source": [
    "def ZXJ():\n",
    "    print('ZZXXJJ')\n",
    "    return 100"
   ]
  },
  {
   "cell_type": "code",
   "execution_count": 17,
   "metadata": {},
   "outputs": [
    {
     "name": "stdout",
     "output_type": "stream",
     "text": [
      "ZZXXJJ\n"
     ]
    },
    {
     "data": {
      "text/plain": [
       "100"
      ]
     },
     "execution_count": 17,
     "metadata": {},
     "output_type": "execute_result"
    }
   ],
   "source": [
    "ZXJ()#调用函数， 函数名+括号"
   ]
  },
  {
   "cell_type": "code",
   "execution_count": 3,
   "metadata": {},
   "outputs": [],
   "source": [
    "def ZXJ(name):\n",
    "    print(name,'儿子')"
   ]
  },
  {
   "cell_type": "code",
   "execution_count": 5,
   "metadata": {},
   "outputs": [
    {
     "name": "stdout",
     "output_type": "stream",
     "text": [
      "赵一辰 儿子\n"
     ]
    }
   ],
   "source": [
    "ZXJ('赵一辰')"
   ]
  },
  {
   "cell_type": "code",
   "execution_count": 13,
   "metadata": {},
   "outputs": [],
   "source": [
    "def panduan(number):\n",
    "    if number % 2 == 0:\n",
    "        print('偶数')\n",
    "    else:\n",
    "        print('奇数')"
   ]
  },
  {
   "cell_type": "code",
   "execution_count": 14,
   "metadata": {},
   "outputs": [
    {
     "name": "stdout",
     "output_type": "stream",
     "text": [
      "奇数\n"
     ]
    }
   ],
   "source": [
    "panduan(number = 1)"
   ]
  },
  {
   "cell_type": "code",
   "execution_count": 15,
   "metadata": {},
   "outputs": [
    {
     "name": "stdout",
     "output_type": "stream",
     "text": [
      "偶数\n"
     ]
    }
   ],
   "source": [
    "panduan(number = 2)"
   ]
  },
  {
   "cell_type": "markdown",
   "metadata": {},
   "source": [
    "## 定义一个函数\n",
    "\n",
    "def function_name(list of parameters):\n",
    "    \n",
    "    do something\n",
    "![](../Photo/69.png)\n",
    "- 以前使用的random 或者range 或者print.. 其实都是函数或者类"
   ]
  },
  {
   "cell_type": "markdown",
   "metadata": {},
   "source": [
    "函数的参数如果有默认值的情况,当你调用该函数的时候:\n",
    "可以不给予参数值,那么就会走该参数的默认值\n",
    "否则的话,就走你给予的参数值."
   ]
  },
  {
   "cell_type": "code",
   "execution_count": 36,
   "metadata": {},
   "outputs": [],
   "source": [
    "def max_(n1,n2,n3):\n",
    "    if n1>n2 and n1>n3:\n",
    "        return n1\n",
    "    elif n2>n1 and n2>n3:\n",
    "        return n2\n",
    "    elif n3>n1 and n3>n2:\n",
    "        return n3"
   ]
  },
  {
   "cell_type": "code",
   "execution_count": 38,
   "metadata": {},
   "outputs": [],
   "source": [
    "def hahaha():\n",
    "    hahaha()\n",
    "    n = random.randint(0,5)\n",
    "    while 1:\n",
    "        m = eval(input('>>'))\n",
    "        if n == m:\n",
    "            print('smart')\n",
    "            break\n",
    "        elif n <m:\n",
    "            print('太小了')\n",
    "        elif n > m:\n",
    "            print('太大了')"
   ]
  },
  {
   "cell_type": "markdown",
   "metadata": {},
   "source": [
    "## 调用一个函数\n",
    "- functionName()\n",
    "- \"()\" 就代表调用"
   ]
  },
  {
   "cell_type": "markdown",
   "metadata": {},
   "source": [
    "![](../Photo/70.png)"
   ]
  },
  {
   "cell_type": "markdown",
   "metadata": {},
   "source": [
    "## 带返回值和不带返回值的函数\n",
    "- return 返回的内容\n",
    "- return 返回多个值\n",
    "- 一般情况下，在多个函数协同完成一个功能的时候，那么将会有返回值"
   ]
  },
  {
   "cell_type": "markdown",
   "metadata": {},
   "source": [
    "![](../Photo/71.png)\n",
    "\n",
    "- 当然也可以自定义返回None"
   ]
  },
  {
   "cell_type": "markdown",
   "metadata": {},
   "source": [
    "## EP：\n",
    "![](../Photo/72.png)"
   ]
  },
  {
   "cell_type": "markdown",
   "metadata": {},
   "source": [
    "## 类型和关键字参数\n",
    "- 普通参数\n",
    "- 多个参数\n",
    "- 默认值参数\n",
    "- 不定长参数"
   ]
  },
  {
   "cell_type": "markdown",
   "metadata": {},
   "source": [
    "## 普通参数"
   ]
  },
  {
   "cell_type": "markdown",
   "metadata": {},
   "source": [
    "## 多个参数"
   ]
  },
  {
   "cell_type": "markdown",
   "metadata": {},
   "source": [
    "## 默认值参数"
   ]
  },
  {
   "cell_type": "markdown",
   "metadata": {},
   "source": [
    "## 强制命名"
   ]
  },
  {
   "cell_type": "markdown",
   "metadata": {},
   "source": [
    "## 不定长参数\n",
    "- \\*args\n",
    "> - 不定长，来多少装多少，不装也是可以的\n",
    "  - 返回的数据类型是元组\n",
    "  - args 名字是可以修改的，只是我们约定俗成的是args\n",
    "- \\**kwargs \n",
    "> - 返回的字典\n",
    "  - 输入的一定要是表达式（键值对）\n",
    "- name,\\*args,name2,\\**kwargs  使用参数名"
   ]
  },
  {
   "cell_type": "markdown",
   "metadata": {},
   "source": [
    "## 变量的作用域\n",
    "- 局部变量 local\n",
    "- 全局变量 global\n",
    "- globals 函数返回一个全局变量的字典，包括所有导入的变量\n",
    "- locals() 函数会以字典类型返回当前位置的全部局部变量。"
   ]
  },
  {
   "cell_type": "markdown",
   "metadata": {},
   "source": [
    "## 注意：\n",
    "- global ：在进行赋值操作的时候需要声明\n",
    "- 官方解释：This is because when you make an assignment to a variable in a scope, that variable becomes local to that scope and shadows any similarly named variable in the outer scope.\n",
    "- ![](../Photo/73.png)"
   ]
  },
  {
   "cell_type": "markdown",
   "metadata": {},
   "source": [
    "# Homework\n",
    "- 1\n",
    "![](../Photo/74.png)"
   ]
  },
  {
   "cell_type": "code",
   "execution_count": 72,
   "metadata": {},
   "outputs": [],
   "source": [
    "def getpentagonalnumber( ):\n",
    "    n = 0\n",
    "    count = 0\n",
    "    for i in range(1,101):\n",
    "        wujiao = (n * (3*n-1))/2\n",
    "        n += 1\n",
    "        print(int(wujiao),end = '    ')\n",
    "        count += 1\n",
    "        if count % 10 == 0:\n",
    "            print( )"
   ]
  },
  {
   "cell_type": "code",
   "execution_count": 73,
   "metadata": {},
   "outputs": [
    {
     "name": "stdout",
     "output_type": "stream",
     "text": [
      "0    1    5    12    22    35    51    70    92    117    \n",
      "145    176    210    247    287    330    376    425    477    532    \n",
      "590    651    715    782    852    925    1001    1080    1162    1247    \n",
      "1335    1426    1520    1617    1717    1820    1926    2035    2147    2262    \n",
      "2380    2501    2625    2752    2882    3015    3151    3290    3432    3577    \n",
      "3725    3876    4030    4187    4347    4510    4676    4845    5017    5192    \n",
      "5370    5551    5735    5922    6112    6305    6501    6700    6902    7107    \n",
      "7315    7526    7740    7957    8177    8400    8626    8855    9087    9322    \n",
      "9560    9801    10045    10292    10542    10795    11051    11310    11572    11837    \n",
      "12105    12376    12650    12927    13207    13490    13776    14065    14357    14652    \n"
     ]
    }
   ],
   "source": [
    "getpentagonalnumber( )"
   ]
  },
  {
   "cell_type": "markdown",
   "metadata": {},
   "source": [
    "- 2 \n",
    "![](../Photo/75.png)"
   ]
  },
  {
   "cell_type": "code",
   "execution_count": 77,
   "metadata": {},
   "outputs": [],
   "source": [
    "import math\n",
    "def sumdigits():\n",
    "    abc = c * 1 + b * 10 + a * 100\n",
    "    abc % 10 == c\n",
    "    return c\n",
    "    abc // 10 == ab\n",
    "    return ab\n",
    "    sum = a+b+c"
   ]
  },
  {
   "cell_type": "code",
   "execution_count": 78,
   "metadata": {},
   "outputs": [
    {
     "ename": "NameError",
     "evalue": "name 'c' is not defined",
     "output_type": "error",
     "traceback": [
      "\u001b[1;31m---------------------------------------------------------------------------\u001b[0m",
      "\u001b[1;31mNameError\u001b[0m                                 Traceback (most recent call last)",
      "\u001b[1;32m<ipython-input-78-c3ab4d13c4d0>\u001b[0m in \u001b[0;36m<module>\u001b[1;34m\u001b[0m\n\u001b[1;32m----> 1\u001b[1;33m \u001b[0msumdigits\u001b[0m\u001b[1;33m(\u001b[0m\u001b[1;33m)\u001b[0m\u001b[1;33m\u001b[0m\u001b[1;33m\u001b[0m\u001b[0m\n\u001b[0m",
      "\u001b[1;32m<ipython-input-77-ed0a22d27192>\u001b[0m in \u001b[0;36msumdigits\u001b[1;34m()\u001b[0m\n\u001b[0;32m      1\u001b[0m \u001b[1;32mimport\u001b[0m \u001b[0mmath\u001b[0m\u001b[1;33m\u001b[0m\u001b[1;33m\u001b[0m\u001b[0m\n\u001b[0;32m      2\u001b[0m \u001b[1;32mdef\u001b[0m \u001b[0msumdigits\u001b[0m\u001b[1;33m(\u001b[0m\u001b[1;33m)\u001b[0m\u001b[1;33m:\u001b[0m\u001b[1;33m\u001b[0m\u001b[1;33m\u001b[0m\u001b[0m\n\u001b[1;32m----> 3\u001b[1;33m     \u001b[0mabc\u001b[0m \u001b[1;33m=\u001b[0m \u001b[0mc\u001b[0m \u001b[1;33m*\u001b[0m \u001b[1;36m1\u001b[0m \u001b[1;33m+\u001b[0m \u001b[0mb\u001b[0m \u001b[1;33m*\u001b[0m \u001b[1;36m10\u001b[0m \u001b[1;33m+\u001b[0m \u001b[0ma\u001b[0m \u001b[1;33m*\u001b[0m \u001b[1;36m100\u001b[0m\u001b[1;33m\u001b[0m\u001b[1;33m\u001b[0m\u001b[0m\n\u001b[0m\u001b[0;32m      4\u001b[0m     \u001b[0mabc\u001b[0m \u001b[1;33m%\u001b[0m \u001b[1;36m10\u001b[0m \u001b[1;33m==\u001b[0m \u001b[0mc\u001b[0m\u001b[1;33m\u001b[0m\u001b[1;33m\u001b[0m\u001b[0m\n\u001b[0;32m      5\u001b[0m     \u001b[1;32mreturn\u001b[0m \u001b[0mc\u001b[0m\u001b[1;33m\u001b[0m\u001b[1;33m\u001b[0m\u001b[0m\n",
      "\u001b[1;31mNameError\u001b[0m: name 'c' is not defined"
     ]
    }
   ],
   "source": [
    "sumdigits()"
   ]
  },
  {
   "cell_type": "markdown",
   "metadata": {},
   "source": [
    "- 3\n",
    "![](../Photo/76.png)"
   ]
  },
  {
   "cell_type": "code",
   "execution_count": 12,
   "metadata": {},
   "outputs": [],
   "source": [
    "def displaysortednumbers():\n",
    "    for i in range(2):\n",
    "        a,b,c = eval(input('Enter three numbers(n1,n2,n3):'))\n",
    "        print(a,b,c)\n",
    "        if n1>n2 and n1>n3 and  n2>n3:\n",
    "            print(n3,n2,n1)\n",
    "        elif n1>n2 and n1>n3 and  n3>n2:\n",
    "            print(n2,n3,n1)\n",
    "        elif n2>n1 and n2>n3 and n1>n3:\n",
    "            print(n3,n1,n2)\n",
    "        elif n2>n1 and n2>n3 and n3>n1:\n",
    "            print(n1,n3,n2)\n",
    "        elif n3>n1 and n3>n2 and n1>n2:\n",
    "            print(n2,n1,n3)\n",
    "        elif n3>n1 and n3>n2 and n2>n1:\n",
    "            print(n1,n2,n3)\n",
    "        print()"
   ]
  },
  {
   "cell_type": "code",
   "execution_count": 13,
   "metadata": {},
   "outputs": [
    {
     "name": "stdout",
     "output_type": "stream",
     "text": [
      "Enter three numbers(n1,n2,n3):2,6,3\n",
      "2 6 3\n"
     ]
    },
    {
     "ename": "NameError",
     "evalue": "name 'n1' is not defined",
     "output_type": "error",
     "traceback": [
      "\u001b[1;31m---------------------------------------------------------------------------\u001b[0m",
      "\u001b[1;31mNameError\u001b[0m                                 Traceback (most recent call last)",
      "\u001b[1;32m<ipython-input-13-65ec1d1c3250>\u001b[0m in \u001b[0;36m<module>\u001b[1;34m\u001b[0m\n\u001b[1;32m----> 1\u001b[1;33m \u001b[0mdisplaysortednumbers\u001b[0m\u001b[1;33m(\u001b[0m\u001b[1;33m)\u001b[0m\u001b[1;33m\u001b[0m\u001b[1;33m\u001b[0m\u001b[0m\n\u001b[0m",
      "\u001b[1;32m<ipython-input-12-5568dc7676c7>\u001b[0m in \u001b[0;36mdisplaysortednumbers\u001b[1;34m()\u001b[0m\n\u001b[0;32m      3\u001b[0m         \u001b[0ma\u001b[0m\u001b[1;33m,\u001b[0m\u001b[0mb\u001b[0m\u001b[1;33m,\u001b[0m\u001b[0mc\u001b[0m \u001b[1;33m=\u001b[0m \u001b[0meval\u001b[0m\u001b[1;33m(\u001b[0m\u001b[0minput\u001b[0m\u001b[1;33m(\u001b[0m\u001b[1;34m'Enter three numbers(n1,n2,n3):'\u001b[0m\u001b[1;33m)\u001b[0m\u001b[1;33m)\u001b[0m\u001b[1;33m\u001b[0m\u001b[1;33m\u001b[0m\u001b[0m\n\u001b[0;32m      4\u001b[0m         \u001b[0mprint\u001b[0m\u001b[1;33m(\u001b[0m\u001b[0ma\u001b[0m\u001b[1;33m,\u001b[0m\u001b[0mb\u001b[0m\u001b[1;33m,\u001b[0m\u001b[0mc\u001b[0m\u001b[1;33m)\u001b[0m\u001b[1;33m\u001b[0m\u001b[1;33m\u001b[0m\u001b[0m\n\u001b[1;32m----> 5\u001b[1;33m         \u001b[1;32mif\u001b[0m \u001b[0mn1\u001b[0m\u001b[1;33m>\u001b[0m\u001b[0mn2\u001b[0m \u001b[1;32mand\u001b[0m \u001b[0mn1\u001b[0m\u001b[1;33m>\u001b[0m\u001b[0mn3\u001b[0m \u001b[1;32mand\u001b[0m  \u001b[0mn2\u001b[0m\u001b[1;33m>\u001b[0m\u001b[0mn3\u001b[0m\u001b[1;33m:\u001b[0m\u001b[1;33m\u001b[0m\u001b[1;33m\u001b[0m\u001b[0m\n\u001b[0m\u001b[0;32m      6\u001b[0m             \u001b[0mprint\u001b[0m\u001b[1;33m(\u001b[0m\u001b[0mn3\u001b[0m\u001b[1;33m,\u001b[0m\u001b[0mn2\u001b[0m\u001b[1;33m,\u001b[0m\u001b[0mn1\u001b[0m\u001b[1;33m)\u001b[0m\u001b[1;33m\u001b[0m\u001b[1;33m\u001b[0m\u001b[0m\n\u001b[0;32m      7\u001b[0m         \u001b[1;32melif\u001b[0m \u001b[0mn1\u001b[0m\u001b[1;33m>\u001b[0m\u001b[0mn2\u001b[0m \u001b[1;32mand\u001b[0m \u001b[0mn1\u001b[0m\u001b[1;33m>\u001b[0m\u001b[0mn3\u001b[0m \u001b[1;32mand\u001b[0m  \u001b[0mn3\u001b[0m\u001b[1;33m>\u001b[0m\u001b[0mn2\u001b[0m\u001b[1;33m:\u001b[0m\u001b[1;33m\u001b[0m\u001b[1;33m\u001b[0m\u001b[0m\n",
      "\u001b[1;31mNameError\u001b[0m: name 'n1' is not defined"
     ]
    }
   ],
   "source": [
    "displaysortednumbers()"
   ]
  },
  {
   "cell_type": "markdown",
   "metadata": {},
   "source": [
    "- 4\n",
    "![](../Photo/77.png)"
   ]
  },
  {
   "cell_type": "code",
   "execution_count": null,
   "metadata": {},
   "outputs": [],
   "source": [
    "def future(value,month,years):\n",
    "    for i in range(30):\n",
    "        "
   ]
  },
  {
   "cell_type": "markdown",
   "metadata": {},
   "source": [
    "- 5\n",
    "![](../Photo/78.png)"
   ]
  },
  {
   "cell_type": "markdown",
   "metadata": {},
   "source": [
    "- 6\n",
    "![](../Photo/79.png)"
   ]
  },
  {
   "cell_type": "markdown",
   "metadata": {},
   "source": [
    "- 7\n",
    "![](../Photo/80.png)"
   ]
  },
  {
   "cell_type": "code",
   "execution_count": 3,
   "metadata": {},
   "outputs": [],
   "source": [
    "import math\n",
    "def distance():\n",
    "    x1 = input('请输入一个数')\n",
    "    x2 = input('请输入一个数')\n",
    "    y1 = input('请输入一个数')\n",
    "    y2 = input('请输入一个数')\n",
    "    d = math.sqrt ((x1-x2)**2+(y1-y2)**2)\n",
    "    print(d)"
   ]
  },
  {
   "cell_type": "markdown",
   "metadata": {},
   "source": [
    "- 8\n",
    "![](../Photo/81.png)"
   ]
  },
  {
   "cell_type": "markdown",
   "metadata": {},
   "source": [
    "- 9\n",
    "![](../Photo/82.png)\n",
    "![](../Photo/83.png)"
   ]
  },
  {
   "cell_type": "markdown",
   "metadata": {},
   "source": [
    "- 10\n",
    "![](../Photo/84.png)"
   ]
  },
  {
   "cell_type": "code",
   "execution_count": 25,
   "metadata": {},
   "outputs": [
    {
     "name": "stdout",
     "output_type": "stream",
     "text": [
      "you lose\n",
      "you lose\n",
      "you lose\n",
      "you lose\n",
      "you lose\n",
      "you lose\n",
      "you lose\n",
      "you lose\n",
      "you lose\n",
      "you lose\n",
      "you lose\n",
      "you lose\n",
      "you lose\n",
      "you lose\n",
      "you lose\n",
      "you lose\n",
      "you lose\n",
      "you lose\n",
      "you lose\n",
      "you lose\n",
      "you lose\n",
      "you lose\n",
      "you lose\n",
      "you lose\n",
      "you lose\n",
      "you lose\n",
      "you lose\n",
      "you lose\n",
      "you lose\n",
      "you lose\n",
      "you lose\n",
      "you lose\n",
      "you lose\n",
      "you lose\n",
      "you lose\n",
      "you lose\n"
     ]
    }
   ],
   "source": [
    "for i in range(1,7):\n",
    "    for j in range(1,7):\n",
    "        x = i + j\n",
    "        if x == 2 or x == 3 or x == 12:\n",
    "            print('you lose')\n",
    "        elif x == 7 or x == 11:\n",
    "            print('you win')\n",
    "        else:\n",
    "            print('k')\n",
    "                "
   ]
  },
  {
   "cell_type": "markdown",
   "metadata": {},
   "source": [
    "- 11 \n",
    "### 去网上寻找如何用Python代码发送邮件"
   ]
  },
  {
   "cell_type": "code",
   "execution_count": 14,
   "metadata": {},
   "outputs": [
    {
     "ename": "SyntaxError",
     "evalue": "invalid character in identifier (<ipython-input-14-9a824a614d91>, line 1)",
     "output_type": "error",
     "traceback": [
      "\u001b[1;36m  File \u001b[1;32m\"<ipython-input-14-9a824a614d91>\"\u001b[1;36m, line \u001b[1;32m1\u001b[0m\n\u001b[1;33m    编写程序如下：\u001b[0m\n\u001b[1;37m          ^\u001b[0m\n\u001b[1;31mSyntaxError\u001b[0m\u001b[1;31m:\u001b[0m invalid character in identifier\n"
     ]
    }
   ],
   "source": [
    "编写程序如下：\n",
    "\n",
    "#! /usr/bin/env python  \n",
    "\n",
    "import smtpli\n",
    "\n",
    "from email.mime.text import MIMEText\n",
    "\n",
    "mailto_list=['xxxx@xxx.com']           #收件人(列表)\n",
    "\n",
    "mail_host=\"smtp.163.com\"            #使用的邮箱的smtp服务器地址\n",
    "\n",
    "mail_user=\"name\"                           #用户名\n",
    "\n",
    "mail_pass=\"pwd\"                             #密码\n",
    "\n",
    "mail_postfix=\"postfix\"                     #邮箱的后缀\n",
    "\n",
    "def send_mail(to_list,sub,content):\n",
    "\n",
    "    me=\"hello\"+\"<\"+mail_user+\"@\"+mail_postfix+\">\"\n",
    "\n",
    "    msg = MIMEText(content,_subtype='plain')\n",
    "\n",
    "    msg['Subject'] = sub\n",
    "\n",
    "    msg['From'] = me\n",
    "\n",
    "    msg['To'] = \";\".join(to_list)                #将收件人列表以‘；’分隔\n",
    "\n",
    "    try:\n",
    "\n",
    "        server = smtplib.SMTP()\n",
    "\n",
    "        server.connect(mail_host)                            #连接服务器\n",
    "\n",
    "        server.login(mail_user,mail_pass)               #登录操作\n",
    "\n",
    "        server.sendmail(me, to_list, msg.as_string())\n",
    "\n",
    "        server.close()\n",
    "\n",
    "        return True\n",
    "\n",
    "    except Exception, e:\n",
    "\n",
    "        print str(e)\n",
    "\n",
    "        return False\n",
    "\n",
    "for i in range(5):                             #发送五封，不过会被拦截的。。。\n",
    "\n",
    "    if send_mail(mailto_list,\"hello\",\"haha!\"):  #邮件主题和邮件内容\n",
    "\n",
    "        print \"done!\"\n",
    "\n",
    "    else:\n",
    "\n",
    "        print \"failed!\"\n",
    "\n",
    "最后，可以运行编写的py文件，可以得到如图所是的结果，代表邮件发送成功。"
   ]
  },
  {
   "cell_type": "code",
   "execution_count": null,
   "metadata": {},
   "outputs": [],
   "source": []
  }
 ],
 "metadata": {
  "kernelspec": {
   "display_name": "Python 3",
   "language": "python",
   "name": "python3"
  }
 },
 "nbformat": 4,
 "nbformat_minor": 2
}
