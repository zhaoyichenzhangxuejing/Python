{
 "cells": [
  {
   "cell_type": "markdown",
   "metadata": {},
   "source": [
    "# 对象和类\n",
    "- 一个学生，一张桌子，一个圆都是对象\n",
    "- 对象是类的一个实例，你可以创建多个对象，创建类的一个实例过程被称为实例化，\n",
    "- 在Python中对象就是实例，而实例就是对象"
   ]
  },
  {
   "cell_type": "markdown",
   "metadata": {},
   "source": [
    "## 定义类\n",
    "class ClassName:\n",
    "\n",
    "    do something\n",
    "    \n",
    "- class 类的表示与def 一样\n",
    "- 类名最好使用驼峰式\n",
    "- 在Python2中类是需要继承基类object的，在Python中默认继承，可写可不写\n",
    "- 可以将普通代码理解为皮肤，而函数可以理解为内衣，那么类可以理解为外套"
   ]
  },
  {
   "cell_type": "code",
   "execution_count": 9,
   "metadata": {},
   "outputs": [],
   "source": [
    "#类必须初始化，是用self，初始化自身\n",
    "#类里面所有的函数中的第一个变量不再是参数，而是一个印记\n",
    "# 在类中，如果有参数需要多次使用，那么就可以将其设置为共享参数\n",
    "class zxj:\n",
    "    def __init__(self):#两个下滑线\n",
    "        print('我初始化了')"
   ]
  },
  {
   "cell_type": "code",
   "execution_count": 10,
   "metadata": {},
   "outputs": [
    {
     "name": "stdout",
     "output_type": "stream",
     "text": [
      "我初始化了\n"
     ]
    },
    {
     "data": {
      "text/plain": [
       "<__main__.zxj at 0x20d3fa52630>"
      ]
     },
     "execution_count": 10,
     "metadata": {},
     "output_type": "execute_result"
    }
   ],
   "source": [
    "zxj( )   #（ ）代表直接走初始化函数"
   ]
  },
  {
   "cell_type": "code",
   "execution_count": 14,
   "metadata": {},
   "outputs": [],
   "source": [
    "class zxj:\n",
    "    def __init__(self):#两个下滑线\n",
    "        print('我初始化了')\n",
    "    def Print_(self,name):\n",
    "        print('zxj hahaha',name)"
   ]
  },
  {
   "cell_type": "code",
   "execution_count": 15,
   "metadata": {},
   "outputs": [
    {
     "name": "stdout",
     "output_type": "stream",
     "text": [
      "我初始化了\n"
     ]
    }
   ],
   "source": [
    "zhang = zxj( )"
   ]
  },
  {
   "cell_type": "code",
   "execution_count": 16,
   "metadata": {},
   "outputs": [
    {
     "name": "stdout",
     "output_type": "stream",
     "text": [
      "zxj hahaha zhang\n"
     ]
    }
   ],
   "source": [
    "zhang.Print_(name = 'zhang')"
   ]
  },
  {
   "cell_type": "code",
   "execution_count": 22,
   "metadata": {},
   "outputs": [],
   "source": [
    "class zxj:\n",
    "    def __init__(self,num1,num2):#两个下滑线\n",
    "        print('我初始化了')\n",
    "        #参数共享\n",
    "        self.num1 = num1\n",
    "        self.num2 = num2\n",
    "        print(self.num1,self.num2)\n",
    "    def sum(self):\n",
    "        return self.num1 + self.num2\n",
    "    def cheng(self):\n",
    "        return self.num1 * self.num2"
   ]
  },
  {
   "cell_type": "code",
   "execution_count": 23,
   "metadata": {},
   "outputs": [
    {
     "name": "stdout",
     "output_type": "stream",
     "text": [
      "我初始化了\n",
      "1 2\n"
     ]
    }
   ],
   "source": [
    "zhang = zxj(num1 = 1,num2 = 2)"
   ]
  },
  {
   "cell_type": "code",
   "execution_count": 24,
   "metadata": {},
   "outputs": [
    {
     "data": {
      "text/plain": [
       "3"
      ]
     },
     "execution_count": 24,
     "metadata": {},
     "output_type": "execute_result"
    }
   ],
   "source": [
    "zhang.sum()"
   ]
  },
  {
   "cell_type": "code",
   "execution_count": 25,
   "metadata": {},
   "outputs": [
    {
     "data": {
      "text/plain": [
       "2"
      ]
     },
     "execution_count": 25,
     "metadata": {},
     "output_type": "execute_result"
    }
   ],
   "source": [
    "zhang.cheng()"
   ]
  },
  {
   "cell_type": "code",
   "execution_count": 109,
   "metadata": {},
   "outputs": [],
   "source": [
    "#创建一个类。1.判断奇数还是偶数  2.判断闰年平年\n",
    "class zxj1:\n",
    "    def __init__(self):\n",
    "        print('我初始化了')\n",
    "    def jiou(self,num):\n",
    "        if num % 2 == 0:\n",
    "            print('偶数')\n",
    "        else:\n",
    "            print('奇数')\n",
    "    def runping(self,years):\n",
    "        if (years % 4 == 0 and years % 100 != 0) or (years % 400 == 0):\n",
    "            print('闰年')\n",
    "        else:\n",
    "            print('平年')"
   ]
  },
  {
   "cell_type": "code",
   "execution_count": 110,
   "metadata": {},
   "outputs": [
    {
     "name": "stdout",
     "output_type": "stream",
     "text": [
      "我初始化了\n"
     ]
    }
   ],
   "source": [
    "#创建类的一个实例\n",
    "a = zxj1()"
   ]
  },
  {
   "cell_type": "code",
   "execution_count": 111,
   "metadata": {},
   "outputs": [
    {
     "name": "stdout",
     "output_type": "stream",
     "text": [
      "奇数\n"
     ]
    }
   ],
   "source": [
    "a.jiou(num = 3)"
   ]
  },
  {
   "cell_type": "code",
   "execution_count": 112,
   "metadata": {},
   "outputs": [
    {
     "name": "stdout",
     "output_type": "stream",
     "text": [
      "平年\n"
     ]
    }
   ],
   "source": [
    "a.runping(years = 1998)"
   ]
  },
  {
   "cell_type": "markdown",
   "metadata": {},
   "source": [
    "## 定义一个不含初始化__init__的简单类\n",
    "class ClassName:\n",
    "\n",
    "    joker = “Home”\n",
    "    \n",
    "    def func():\n",
    "        print('Worker')\n",
    "    \n",
    "- 尽量少使用"
   ]
  },
  {
   "cell_type": "markdown",
   "metadata": {},
   "source": [
    "\n",
    "\n",
    "## 定义一个标准类\n",
    "- __init__ 代表初始化，可以初始化任何动作\n",
    "- 此时类调用要使用()，其中（）可以理解为开始初始化\n",
    "- 初始化内的元素，类中其他的函数可以共享\n",
    "![](../Photo/85.png)"
   ]
  },
  {
   "cell_type": "markdown",
   "metadata": {},
   "source": [
    "- Circle 和 className_ 的第一个区别有 __init__ 这个函数\n",
    "- 。。。。   第二个区别，类中的每一个函数都有self的这个“参数”"
   ]
  },
  {
   "cell_type": "markdown",
   "metadata": {},
   "source": [
    "## 何为self？\n",
    "- self 是指向对象本身的参数\n",
    "- self 只是一个命名规则，其实可以改变的，但是我们约定俗成的是self，也便于理解\n",
    "- 使用了self就可以访问类中定义的成员\n",
    "<img src=\"../Photo/86.png\"></img>"
   ]
  },
  {
   "cell_type": "markdown",
   "metadata": {},
   "source": [
    "## 使用类 Cirlcle"
   ]
  },
  {
   "cell_type": "markdown",
   "metadata": {},
   "source": [
    "## 类的传参\n",
    "- class ClassName:\n",
    "    \n",
    "        def __init__(self, para1,para2...)：\n",
    "            \n",
    "            self.para1 = para1\n",
    "            \n",
    "            self.para2 = para2"
   ]
  },
  {
   "cell_type": "markdown",
   "metadata": {},
   "source": [
    "## EP:\n",
    "- A：定义一个类，类中含有两个功能：\n",
    "    - 1、产生3个随机数，获取最大值\n",
    "    - 2、产生3个随机数，获取最小值\n",
    "- B：定义一个类，（类中函数的嵌套使用）\n",
    "    - 1、第一个函数的功能为：输入一个数字\n",
    "    - 2、第二个函数的功能为：使用第一个函数中得到的数字进行平方处理\n",
    "    - 3、第三个函数的功能为：得到平方处理后的数字 - 原来输入的数字，并打印结果"
   ]
  },
  {
   "cell_type": "code",
   "execution_count": 8,
   "metadata": {},
   "outputs": [],
   "source": [
    "#2.\n",
    "class zxj:\n",
    "    def __init__(self):\n",
    "        print('我初始化了')\n",
    "    def shu(self):\n",
    "        self.num = eval(input('>>'))\n",
    "        print('输入的数字是:',self.num)\n",
    "    def pf(self):\n",
    "        self.square = self.num ** 2\n",
    "        print('平方数是:',self.square)\n",
    "    def jian(self):\n",
    "        self.cha = self.square - self.num\n",
    "        print('两者的差值是:',self.cha)"
   ]
  },
  {
   "cell_type": "code",
   "execution_count": 9,
   "metadata": {},
   "outputs": [
    {
     "name": "stdout",
     "output_type": "stream",
     "text": [
      "我初始化了\n"
     ]
    }
   ],
   "source": [
    "a = zxj()"
   ]
  },
  {
   "cell_type": "code",
   "execution_count": 10,
   "metadata": {},
   "outputs": [
    {
     "name": "stdout",
     "output_type": "stream",
     "text": [
      ">>2\n",
      "输入的数字是: 2\n"
     ]
    }
   ],
   "source": [
    "a.shu()"
   ]
  },
  {
   "cell_type": "code",
   "execution_count": 12,
   "metadata": {},
   "outputs": [
    {
     "name": "stdout",
     "output_type": "stream",
     "text": [
      "平方数是: 4\n"
     ]
    }
   ],
   "source": [
    "a.pf()"
   ]
  },
  {
   "cell_type": "code",
   "execution_count": 13,
   "metadata": {},
   "outputs": [
    {
     "name": "stdout",
     "output_type": "stream",
     "text": [
      "两者的差值是: 2\n"
     ]
    }
   ],
   "source": [
    "a.jian()"
   ]
  },
  {
   "cell_type": "code",
   "execution_count": 97,
   "metadata": {},
   "outputs": [],
   "source": [
    "#1.\n",
    "import random\n",
    "class zxj:\n",
    "    def __init__(self):\n",
    "        print('我初始化了')\n",
    "    def max_(self):\n",
    "        n1= random.randint(0,10)\n",
    "        n2= random.randint(0,10)\n",
    "        n3= random.randint(0,10)\n",
    "        print(n1,n2,n3)\n",
    "        return max(n1,n2,n3)\n",
    "    def min_(self):\n",
    "        n1= random.randint(0,10)\n",
    "        n2= random.randint(0,10)\n",
    "        n3= random.randint(0,10)\n",
    "        print(n1,n2,n3)\n",
    "        return min(n1,n2,n3)"
   ]
  },
  {
   "cell_type": "code",
   "execution_count": 98,
   "metadata": {},
   "outputs": [
    {
     "name": "stdout",
     "output_type": "stream",
     "text": [
      "我初始化了\n"
     ]
    }
   ],
   "source": [
    "a = zxj()"
   ]
  },
  {
   "cell_type": "code",
   "execution_count": 99,
   "metadata": {},
   "outputs": [
    {
     "name": "stdout",
     "output_type": "stream",
     "text": [
      "3 1 2\n"
     ]
    },
    {
     "data": {
      "text/plain": [
       "3"
      ]
     },
     "execution_count": 99,
     "metadata": {},
     "output_type": "execute_result"
    }
   ],
   "source": [
    "a.max_()"
   ]
  },
  {
   "cell_type": "code",
   "execution_count": 100,
   "metadata": {},
   "outputs": [
    {
     "name": "stdout",
     "output_type": "stream",
     "text": [
      "4 4 8\n"
     ]
    },
    {
     "data": {
      "text/plain": [
       "4"
      ]
     },
     "execution_count": 100,
     "metadata": {},
     "output_type": "execute_result"
    }
   ],
   "source": [
    "a.min_()"
   ]
  },
  {
   "cell_type": "code",
   "execution_count": 113,
   "metadata": {},
   "outputs": [],
   "source": [
    "#1.\n",
    "import random\n",
    "class zxj:\n",
    "    def __init__(self):\n",
    "        print('我初始化了')\n",
    "        self.n1= random.randint(0,10)\n",
    "        self.n2= random.randint(0,10)\n",
    "        self.n3= random.randint(0,10)\n",
    "    def max_(self):\n",
    "        print(self.n1,self.n2,self.n3)\n",
    "        return max(self.n1,self.n2,self.n3)\n",
    "    def min_(self):\n",
    "        print(self.n1,self.n2,self.n3)\n",
    "        return min(self.n1,self.n2,self.n3)"
   ]
  },
  {
   "cell_type": "code",
   "execution_count": 114,
   "metadata": {},
   "outputs": [
    {
     "name": "stdout",
     "output_type": "stream",
     "text": [
      "我初始化了\n"
     ]
    }
   ],
   "source": [
    "a = zxj()"
   ]
  },
  {
   "cell_type": "code",
   "execution_count": 115,
   "metadata": {},
   "outputs": [
    {
     "name": "stdout",
     "output_type": "stream",
     "text": [
      "7 3 6\n"
     ]
    },
    {
     "data": {
      "text/plain": [
       "7"
      ]
     },
     "execution_count": 115,
     "metadata": {},
     "output_type": "execute_result"
    }
   ],
   "source": [
    "a.max_()"
   ]
  },
  {
   "cell_type": "code",
   "execution_count": 116,
   "metadata": {},
   "outputs": [
    {
     "name": "stdout",
     "output_type": "stream",
     "text": [
      "7 3 6\n"
     ]
    },
    {
     "data": {
      "text/plain": [
       "3"
      ]
     },
     "execution_count": 116,
     "metadata": {},
     "output_type": "execute_result"
    }
   ],
   "source": [
    "a.min_()"
   ]
  },
  {
   "cell_type": "markdown",
   "metadata": {},
   "source": [
    "## 类的继承\n",
    "- 类的单继承\n",
    "- 类的多继承\n",
    "- 继承标识\n",
    ">  class SonClass(FatherClass):\n",
    "            \n",
    "            def __init__(self):\n",
    "            \n",
    "                FatherClass.__init__(self)"
   ]
  },
  {
   "cell_type": "code",
   "execution_count": 36,
   "metadata": {},
   "outputs": [],
   "source": [
    "class A:\n",
    "    def __init__(self):\n",
    "        self.a = 'a'\n",
    "    def a_(self):\n",
    "        print('class A')\n",
    "#多继承时，前面覆盖后面     \n",
    "#私有变量不可继承  \n",
    "#私有变量：例如：双下划线__ + a  __a\n",
    "# 私有变量强制继承：单下划线_A+双下划线__a\n",
    "#   _A__a\n",
    "#多重继承尽量避免\n",
    "class B(A):\n",
    "    def __init__(self):\n",
    "        #告诉A，B即将继承A\n",
    "        A.__init__(self)\n",
    "#        print(self.a)\n",
    "#        self.a_()\n",
    "    def b_(self):\n",
    "        print(self.a)\n",
    "        self.a_()"
   ]
  },
  {
   "cell_type": "code",
   "execution_count": 29,
   "metadata": {},
   "outputs": [],
   "source": [
    "#输入QQ账号，输入QQ密码，如密码正确则登录成功，若密码错误，则出现验证码，验证后输出登录失败\n",
    "import random\n",
    "class zxj:\n",
    "    def __init__(self):\n",
    "        self.account = 123\n",
    "        self.password = 123\n",
    "    def Account(self):\n",
    "        self.acc = eval(input('请输入账号:>>'))\n",
    "    def Password(self):\n",
    "        self.passwor = eval(input('请输入密码:>>'))\n",
    "    def Check(self):\n",
    "        if self.acc == self.account and self.passwor == self.password:\n",
    "            print('Success')\n",
    "        else:\n",
    "            self.Verify()\n",
    "    def Verify(self):\n",
    "        Verify_Var = 123\n",
    "        print('验证码是:',Verify_Var)\n",
    "        while 1:\n",
    "            User_Verify = eval(input('请输入验证码:>>'))\n",
    "            if User_Verify == Verify_Var:\n",
    "                print('Failed')\n",
    "                break\n",
    "    def Start(self):\n",
    "        self.Account()\n",
    "        self.Password()\n",
    "        self.Check()"
   ]
  },
  {
   "cell_type": "code",
   "execution_count": 30,
   "metadata": {},
   "outputs": [],
   "source": [
    "a = zxj()"
   ]
  },
  {
   "cell_type": "code",
   "execution_count": 31,
   "metadata": {},
   "outputs": [
    {
     "name": "stdout",
     "output_type": "stream",
     "text": [
      "请输入账号:>>123\n",
      "请输入密码:>>123\n",
      "Success\n"
     ]
    }
   ],
   "source": [
    "a.Start()"
   ]
  },
  {
   "cell_type": "markdown",
   "metadata": {},
   "source": [
    "## 私有数据域(私有变量，或者私有函数)\n",
    "- 在Python中 变量名或者函数名使用双下划线代表私有  \\__Joker,   def \\__Joker():\n",
    "- 私有数据域不可继承\n",
    "- 私有数据域强制继承   \\__dir__()"
   ]
  },
  {
   "cell_type": "code",
   "execution_count": null,
   "metadata": {},
   "outputs": [],
   "source": [
    "#私有变量，不可继承，不可在外部调用，但是可以在内部使用"
   ]
  },
  {
   "cell_type": "markdown",
   "metadata": {},
   "source": [
    "![](../Photo/87.png)"
   ]
  },
  {
   "cell_type": "markdown",
   "metadata": {},
   "source": [
    "## EP:\n",
    "![](../Photo/88.png)\n",
    "![](../Photo/89.png)\n",
    "![](../Photo/90.png)\n"
   ]
  },
  {
   "cell_type": "markdown",
   "metadata": {},
   "source": [
    "## 类的其他\n",
    "- 类的封装\n",
    "    - 实际上就是将一类功能放在一起，方便未来进行管理\n",
    "- 类的继承（上面已经讲过）\n",
    "- 类的多态\n",
    "    - 包括装饰器：将放在以后处理高级类中教\n",
    "    - 装饰器的好处：当许多类中的函数需要使用同一个功能的时候，那么使用装饰器就会方便许多\n",
    "    - 装饰器是有固定的写法\n",
    "        - 其包括普通装饰器与带参装饰器"
   ]
  },
  {
   "cell_type": "code",
   "execution_count": 55,
   "metadata": {},
   "outputs": [],
   "source": [
    "class A:\n",
    "    def __init__(self):\n",
    "        self.a = 'a'\n",
    "     # 静态调用   \n",
    "    @staticmethod\n",
    "    def a_():\n",
    "        print('class A')"
   ]
  },
  {
   "cell_type": "code",
   "execution_count": 56,
   "metadata": {},
   "outputs": [],
   "source": [
    "aa = A()"
   ]
  },
  {
   "cell_type": "code",
   "execution_count": 57,
   "metadata": {},
   "outputs": [
    {
     "name": "stdout",
     "output_type": "stream",
     "text": [
      "class A\n"
     ]
    }
   ],
   "source": [
    "aa.a_()"
   ]
  },
  {
   "cell_type": "code",
   "execution_count": null,
   "metadata": {},
   "outputs": [],
   "source": []
  },
  {
   "cell_type": "markdown",
   "metadata": {},
   "source": [
    "# Homewor\n",
    "## UML类图可以不用画\n",
    "## UML 实际上就是一个思维图\n",
    "- 1\n",
    "![](../Photo/91.png)"
   ]
  },
  {
   "cell_type": "code",
   "execution_count": 49,
   "metadata": {},
   "outputs": [],
   "source": [
    "class zxj1:\n",
    "    def __init__(self):\n",
    "        print('我初始化了')     #初始化\n",
    "    def juxing1(self):      #共享参数\n",
    "        self.width1 = eval(input('请输入宽:>>'))                               #矩形1的宽\n",
    "        self.height1 = eval(input('请输入长:>>'))                              #矩形1的长\n",
    "        self.getArea1 = self.width1 * self.height1                             #矩形的面积\n",
    "        self.getPerimeter1 = self.width1 * 2 + self.height1 * 2                # 矩形的周长\n",
    "        print(self.width1,self.height1,self.getArea1,self.getPerimeter1)       #打印矩形的宽，长，面积，周长\n",
    "    def juxing2(self):      #共享参数\n",
    "        self.width2 = eval(input('请输入宽:>>'))                               #矩形1的宽\n",
    "        self.height2 = eval(input('请输入长:>>'))                                #矩形1的长\n",
    "        self.getArea2 = self.width2 * self.height2                               #矩形的面积\n",
    "        self.getPerimeter2 = self.width2 * 2 + self.height2 * 2                  # 矩形的周长\n",
    "        print(self.width2,self.height2,self.getArea2,self.getPerimeter2)         #打印矩形的宽，长，面积，周长"
   ]
  },
  {
   "cell_type": "code",
   "execution_count": 50,
   "metadata": {},
   "outputs": [
    {
     "name": "stdout",
     "output_type": "stream",
     "text": [
      "我初始化了\n"
     ]
    }
   ],
   "source": [
    "a = zxj1()"
   ]
  },
  {
   "cell_type": "code",
   "execution_count": 51,
   "metadata": {},
   "outputs": [
    {
     "name": "stdout",
     "output_type": "stream",
     "text": [
      "请输入宽:>>4\n",
      "请输入长:>>40\n",
      "4 40 160 88\n"
     ]
    }
   ],
   "source": [
    "a.juxing1()"
   ]
  },
  {
   "cell_type": "code",
   "execution_count": 48,
   "metadata": {},
   "outputs": [
    {
     "name": "stdout",
     "output_type": "stream",
     "text": [
      "请输入宽:>>3.5\n",
      "请输入长:>>35.7\n",
      "3.5 35.7 124.95000000000002 78.4\n"
     ]
    }
   ],
   "source": [
    "a.juxing2()"
   ]
  },
  {
   "cell_type": "markdown",
   "metadata": {},
   "source": [
    "- 2\n",
    "![](../Photo/92.png)"
   ]
  },
  {
   "cell_type": "code",
   "execution_count": 25,
   "metadata": {},
   "outputs": [],
   "source": [
    "class Account:\n",
    "    def __init__(self):\n",
    "        print('我初始化了')\n",
    "       # __id = 0\n",
    "       #__balance = 100.0\n",
    "       #__annualInterestRate = 0.0\n",
    "       #print(id,balance,annualInterestRate)\n",
    "    def getMonthlyInterestRate_(self):\n",
    "        # 共享参数\n",
    "        self.id_ = 1122\n",
    "        self.balance = eval(input('请输入账户额'))\n",
    "        self.annualInterestRate1 = eval(input('请输入年利率'))\n",
    "        print(self.id_,self.balance,self.annualInterestRate1)\n",
    "    def annualInterestRate(self):\n",
    "        #求出年利率\n",
    "        self.annualInterestRate = self.annualInterestRate1 / 100\n",
    "        print(self.annualInterestRate)\n",
    "    def MonthlyInterestRate(self):\n",
    "        #求出月利率\n",
    "        self.MonthlyInterestRate = 1/2 * self.annualInterestRate\n",
    "        #返回每月利息额\n",
    "        self.getMonthlyInterestRate = self.balance * self.MonthlyInterestRate\n",
    "        \n",
    "        print(self.annualInterestRate,self.MonthlyInterestRate,self.getMonthlyInterestRate)"
   ]
  },
  {
   "cell_type": "code",
   "execution_count": 26,
   "metadata": {},
   "outputs": [
    {
     "name": "stdout",
     "output_type": "stream",
     "text": [
      "我初始化了\n"
     ]
    }
   ],
   "source": [
    "a = Account()"
   ]
  },
  {
   "cell_type": "code",
   "execution_count": 27,
   "metadata": {},
   "outputs": [
    {
     "name": "stdout",
     "output_type": "stream",
     "text": [
      "请输入账户额20000\n",
      "请输入年利率4.5\n",
      "1122 20000 4.5\n"
     ]
    }
   ],
   "source": [
    "a.getMonthlyInterestRate_()"
   ]
  },
  {
   "cell_type": "code",
   "execution_count": 28,
   "metadata": {},
   "outputs": [
    {
     "name": "stdout",
     "output_type": "stream",
     "text": [
      "0.045\n"
     ]
    }
   ],
   "source": [
    "a.annualInterestRate()"
   ]
  },
  {
   "cell_type": "code",
   "execution_count": 29,
   "metadata": {},
   "outputs": [
    {
     "name": "stdout",
     "output_type": "stream",
     "text": [
      "0.045 0.0225 450.0\n"
     ]
    }
   ],
   "source": [
    "a.MonthlyInterestRate()"
   ]
  },
  {
   "cell_type": "markdown",
   "metadata": {},
   "source": [
    "- 3\n",
    "![](../Photo/93.png)"
   ]
  },
  {
   "cell_type": "code",
   "execution_count": 40,
   "metadata": {},
   "outputs": [],
   "source": [
    "class Fan:\n",
    "       #  初始化\n",
    "    def __init__(self):\n",
    "        print('我初始化了')\n",
    "             #私有变量\n",
    "       # __speedSLOW = 1\n",
    "       #__speedMEDIUM = 2\n",
    "       # __speedFAST = 3\n",
    "       # __on = False\n",
    "       # __radius = 5\n",
    "       # __color = 'blue'\n",
    "              #打印\n",
    "       # print(speedSLOW,speedMEDIUM,speedFAST,on,radius,color)\n",
    "    \n",
    "    def Fan1(self):\n",
    "        #定义风扇的三个速度\n",
    "        speedSLOW = 1\n",
    "        speedMEDIUM = 2\n",
    "        speedFAST = 3\n",
    "        #共享参数\n",
    "        self.speed1 = speedFAST\n",
    "        self.radius1 = eval(input('请输入半径'))\n",
    "        self.color1 = 'yellow'\n",
    "        self.on1 = 'Ture'\n",
    "        #打印出风扇的速度，半径，颜色，状态\n",
    "        print(self.speed1,self.radius1,self.color1,self.on1)\n",
    "    \n",
    "    def Fan2(self):\n",
    "        #定义风扇的三个速度\n",
    "        speedSLOW = 1\n",
    "        speedMEDIUM = 2\n",
    "        speedFAST = 3\n",
    "        #共享参数\n",
    "        self.speed2 = speedMEDIUM\n",
    "        self.radius2 = eval(input('请输入半径'))\n",
    "        self.color2 = 'bule'\n",
    "        self.on2 = 'flase'\n",
    "         #打印出风扇的速度，半径，颜色，状态\n",
    "        print(self.speed2,self.radius2,self.color2,self.on2)"
   ]
  },
  {
   "cell_type": "code",
   "execution_count": 41,
   "metadata": {},
   "outputs": [
    {
     "name": "stdout",
     "output_type": "stream",
     "text": [
      "我初始化了\n"
     ]
    }
   ],
   "source": [
    "a = Fan()"
   ]
  },
  {
   "cell_type": "code",
   "execution_count": 42,
   "metadata": {},
   "outputs": [
    {
     "name": "stdout",
     "output_type": "stream",
     "text": [
      "请输入半径10\n",
      "3 10 yellow Ture\n"
     ]
    }
   ],
   "source": [
    "a.Fan1()"
   ]
  },
  {
   "cell_type": "code",
   "execution_count": 43,
   "metadata": {},
   "outputs": [
    {
     "name": "stdout",
     "output_type": "stream",
     "text": [
      "请输入半径5\n",
      "2 5 bule flase\n"
     ]
    }
   ],
   "source": [
    "a.Fan2()"
   ]
  },
  {
   "cell_type": "markdown",
   "metadata": {},
   "source": [
    "- 4\n",
    "![](../Photo/94.png)\n",
    "![](../Photo/95.png)"
   ]
  },
  {
   "cell_type": "code",
   "execution_count": 73,
   "metadata": {},
   "outputs": [],
   "source": [
    "import math"
   ]
  },
  {
   "cell_type": "code",
   "execution_count": 78,
   "metadata": {},
   "outputs": [],
   "source": [
    "\n",
    "class RegularPolygon:\n",
    "       #  初始化\n",
    "    def __init__(self):\n",
    "        print('我初始化了')\n",
    "    def RegularPolygon1(self):\n",
    "        #私有变量\n",
    "        __n = 3\n",
    "        __side = 1\n",
    "        __x = 0\n",
    "        __y = 0\n",
    "        print(__n,__side,__x,__y)\n",
    "    def RegularPolygon2(self):\n",
    "        n = 6\n",
    "        s = 4\n",
    "        zhouchang = n * s                                   #求出周长\n",
    "        area = (n * s ** 2)/(4 * math.tan(math.pi/n))       #求出面积\n",
    "        print(zhouchang,area)\n",
    "    def RegularPolygon3(self):\n",
    "        n = 10\n",
    "        s = 4\n",
    "        zhouchang = n * s                                    #求出周长\n",
    "        area = (n * s ** 2)/(4 * math.tan(math.pi/n))        #求出面积\n",
    "        print(zhouchang,area)"
   ]
  },
  {
   "cell_type": "code",
   "execution_count": 79,
   "metadata": {},
   "outputs": [
    {
     "name": "stdout",
     "output_type": "stream",
     "text": [
      "我初始化了\n"
     ]
    }
   ],
   "source": [
    "a = RegularPolygon()"
   ]
  },
  {
   "cell_type": "code",
   "execution_count": 80,
   "metadata": {},
   "outputs": [
    {
     "name": "stdout",
     "output_type": "stream",
     "text": [
      "3 1 0 0\n"
     ]
    }
   ],
   "source": [
    "a.RegularPolygon1()"
   ]
  },
  {
   "cell_type": "code",
   "execution_count": 81,
   "metadata": {},
   "outputs": [
    {
     "name": "stdout",
     "output_type": "stream",
     "text": [
      "24 41.569219381653056\n"
     ]
    }
   ],
   "source": [
    "a.RegularPolygon2()"
   ]
  },
  {
   "cell_type": "code",
   "execution_count": 82,
   "metadata": {},
   "outputs": [
    {
     "name": "stdout",
     "output_type": "stream",
     "text": [
      "40 123.10734148701015\n"
     ]
    }
   ],
   "source": [
    "a.RegularPolygon3()"
   ]
  },
  {
   "cell_type": "markdown",
   "metadata": {},
   "source": [
    "- 5\n",
    "![](../Photo/96.png)"
   ]
  },
  {
   "cell_type": "code",
   "execution_count": 58,
   "metadata": {},
   "outputs": [],
   "source": [
    "class LinearEquation:\n",
    "       #  初始化\n",
    "    def __init__(self):\n",
    "        print('我初始化了')\n",
    "    def isSolvable(self):\n",
    "        a = eval(input('请输入值'))\n",
    "        b = eval(input('请输入值'))\n",
    "        c = eval(input('请输入值'))\n",
    "        d = eval(input('请输入值'))\n",
    "        e = eval(input('请输入值'))\n",
    "        f = eval(input('请输入值'))         #给a,b,c,d,e,f赋值\n",
    "        if a * d - b * c == 0:              #若ad*bc = 0 则表示此方程无解\n",
    "            print('这个方程无解')\n",
    "        else:\n",
    "            x = (e*d-b*f)/(a*d-b*c)\n",
    "            y = (a*f-e*c)/(a*d-b*c)\n",
    "            print(x,y)                      #若ad*bc ！= 0 则求出此方程的x，y的值\n",
    "    "
   ]
  },
  {
   "cell_type": "code",
   "execution_count": null,
   "metadata": {},
   "outputs": [],
   "source": [
    "class LinearEquation:\n",
    "    def isSolvable(self):\n",
    "        a = eval(input('请输入值'))\n",
    "        b = eval(input('请输入值'))\n",
    "        c = eval(input('请输入值'))\n",
    "        d = eval(input('请输入值'))\n",
    "        e = eval(input('请输入值'))\n",
    "        f = eval(input('请输入值'))         \n",
    "        if a * d - b * c != 0:\n",
    "            x = (e*d-b*f)/(a*d-b*c)\n",
    "            y = (a*f-e*c)/(a*d-b*c)\n",
    "            print(x,y)   \n",
    "        else:\n",
    "            print(无解)                    \n",
    "    "
   ]
  },
  {
   "cell_type": "code",
   "execution_count": 59,
   "metadata": {},
   "outputs": [
    {
     "name": "stdout",
     "output_type": "stream",
     "text": [
      "我初始化了\n"
     ]
    }
   ],
   "source": [
    "a = LinearEquation()"
   ]
  },
  {
   "cell_type": "code",
   "execution_count": 61,
   "metadata": {},
   "outputs": [
    {
     "name": "stdout",
     "output_type": "stream",
     "text": [
      "请输入值1\n",
      "请输入值5\n",
      "请输入值6\n",
      "请输入值3\n",
      "请输入值2\n",
      "请输入值5\n",
      "0.7037037037037037 0.25925925925925924\n"
     ]
    }
   ],
   "source": [
    "a.isSolvable()"
   ]
  },
  {
   "cell_type": "markdown",
   "metadata": {},
   "source": [
    "- 6\n",
    "![](../Photo/97.png)"
   ]
  },
  {
   "cell_type": "code",
   "execution_count": 53,
   "metadata": {},
   "outputs": [],
   "source": [
    "class LinearEquation:\n",
    "    def zhixian1(self):\n",
    "        (x1,y1) = eval(input('请输入x1,y1    '))               #输入第一个端点值\n",
    "        (x2,y2) = eval(input('请输入x2,y2    '))               #输入第二个端点值\n",
    "        k1 = (y2 - y1) / (x2 - x1)\n",
    "        b = y1 - k1 * x1          \n",
    "        print('y','=',k1,'x','+',b)                            #求出第一条直线\n",
    "    def zhixian2(self):\n",
    "        (x3,y3) = eval(input('请输入x1,y1    '))               #输入第三个端点值\n",
    "        (x4,y4) = eval(input('请输入x2,y2    '))               #输入第四个端点值\n",
    "        k2 = (y4 - y3) / (x4 - x3)\n",
    "        b1 = y3 - k2 * x3\n",
    "        print('y','=',k2,'x','+',b1)                           #求出第二条直线\n",
    "    def jiaodian(self):\n",
    "        (x1,y1) = eval(input('请输入x1,y1    '))\n",
    "        (x2,y2) = eval(input('请输入x2,y2    '))\n",
    "        k1 = (y2 - y1) / (x2 - x1)\n",
    "        b = y1 - k1 * x1\n",
    "        (x3,y3) = eval(input('请输入x1,y1    '))\n",
    "        (x4,y4) = eval(input('请输入x2,y2    '))\n",
    "        k2 = (y4 - y3) / (x4 - x3)\n",
    "        b1 = y3 - k2 * x3\n",
    "        y = 1*x+b\n",
    "        y = -2*x+b1\n",
    "        x= (b1-b)/(k1-k2)\n",
    "        y = k * x  + b\n",
    "        print(x,y)                                             #求出焦点x,y的值\n",
    "        "
   ]
  },
  {
   "cell_type": "code",
   "execution_count": 54,
   "metadata": {},
   "outputs": [],
   "source": [
    "a = LinearEquation()"
   ]
  },
  {
   "cell_type": "code",
   "execution_count": 55,
   "metadata": {},
   "outputs": [
    {
     "name": "stdout",
     "output_type": "stream",
     "text": [
      "请输入x1,y1    2.0,2.0\n",
      "请输入x2,y2    0,0\n",
      "y = 1.0 x + 0.0\n"
     ]
    }
   ],
   "source": [
    "a.zhixian1()"
   ]
  },
  {
   "cell_type": "code",
   "execution_count": 56,
   "metadata": {},
   "outputs": [
    {
     "name": "stdout",
     "output_type": "stream",
     "text": [
      "请输入x1,y1    2.0,0\n",
      "请输入x2,y2    0,2.0\n",
      "y = -1.0 x + 2.0\n"
     ]
    }
   ],
   "source": [
    "a.zhixian2()"
   ]
  },
  {
   "cell_type": "code",
   "execution_count": 57,
   "metadata": {},
   "outputs": [
    {
     "name": "stdout",
     "output_type": "stream",
     "text": [
      "请输入x1,y1    2.0,2.0\n",
      "请输入x2,y2    0,0\n",
      "请输入x1,y1    0,2.0\n",
      "请输入x2,y2    2.0,0\n"
     ]
    },
    {
     "ename": "UnboundLocalError",
     "evalue": "local variable 'x' referenced before assignment",
     "output_type": "error",
     "traceback": [
      "\u001b[1;31m---------------------------------------------------------------------------\u001b[0m",
      "\u001b[1;31mUnboundLocalError\u001b[0m                         Traceback (most recent call last)",
      "\u001b[1;32m<ipython-input-57-34f365710b36>\u001b[0m in \u001b[0;36m<module>\u001b[1;34m\u001b[0m\n\u001b[1;32m----> 1\u001b[1;33m \u001b[0ma\u001b[0m\u001b[1;33m.\u001b[0m\u001b[0mjiaodian\u001b[0m\u001b[1;33m(\u001b[0m\u001b[1;33m)\u001b[0m\u001b[1;33m\u001b[0m\u001b[1;33m\u001b[0m\u001b[0m\n\u001b[0m",
      "\u001b[1;32m<ipython-input-53-5511a9c05e8a>\u001b[0m in \u001b[0;36mjiaodian\u001b[1;34m(self)\u001b[0m\n\u001b[0;32m     21\u001b[0m         \u001b[0mk2\u001b[0m \u001b[1;33m=\u001b[0m \u001b[1;33m(\u001b[0m\u001b[0my4\u001b[0m \u001b[1;33m-\u001b[0m \u001b[0my3\u001b[0m\u001b[1;33m)\u001b[0m \u001b[1;33m/\u001b[0m \u001b[1;33m(\u001b[0m\u001b[0mx4\u001b[0m \u001b[1;33m-\u001b[0m \u001b[0mx3\u001b[0m\u001b[1;33m)\u001b[0m\u001b[1;33m\u001b[0m\u001b[1;33m\u001b[0m\u001b[0m\n\u001b[0;32m     22\u001b[0m         \u001b[0mb1\u001b[0m \u001b[1;33m=\u001b[0m \u001b[0my3\u001b[0m \u001b[1;33m-\u001b[0m \u001b[0mk2\u001b[0m \u001b[1;33m*\u001b[0m \u001b[0mx3\u001b[0m\u001b[1;33m\u001b[0m\u001b[1;33m\u001b[0m\u001b[0m\n\u001b[1;32m---> 23\u001b[1;33m         \u001b[0my\u001b[0m \u001b[1;33m=\u001b[0m \u001b[1;36m1\u001b[0m\u001b[1;33m*\u001b[0m\u001b[0mx\u001b[0m\u001b[1;33m+\u001b[0m\u001b[0mb\u001b[0m\u001b[1;33m\u001b[0m\u001b[1;33m\u001b[0m\u001b[0m\n\u001b[0m\u001b[0;32m     24\u001b[0m         \u001b[0my\u001b[0m \u001b[1;33m=\u001b[0m \u001b[1;33m-\u001b[0m\u001b[1;36m2\u001b[0m\u001b[1;33m*\u001b[0m\u001b[0mx\u001b[0m\u001b[1;33m+\u001b[0m\u001b[0mb1\u001b[0m\u001b[1;33m\u001b[0m\u001b[1;33m\u001b[0m\u001b[0m\n\u001b[0;32m     25\u001b[0m         \u001b[0mx\u001b[0m\u001b[1;33m=\u001b[0m \u001b[1;33m(\u001b[0m\u001b[0mb1\u001b[0m\u001b[1;33m-\u001b[0m\u001b[0mb\u001b[0m\u001b[1;33m)\u001b[0m\u001b[1;33m/\u001b[0m\u001b[1;33m(\u001b[0m\u001b[0mk1\u001b[0m\u001b[1;33m-\u001b[0m\u001b[0mk2\u001b[0m\u001b[1;33m)\u001b[0m\u001b[1;33m\u001b[0m\u001b[1;33m\u001b[0m\u001b[0m\n",
      "\u001b[1;31mUnboundLocalError\u001b[0m: local variable 'x' referenced before assignment"
     ]
    }
   ],
   "source": [
    "a.jiaodian()"
   ]
  },
  {
   "cell_type": "code",
   "execution_count": null,
   "metadata": {},
   "outputs": [],
   "source": []
  }
 ],
 "metadata": {
  "kernelspec": {
   "display_name": "Python 3",
   "language": "python",
   "name": "python3"
  },
  "language_info": {
   "codemirror_mode": {
    "name": "ipython",
    "version": 3
   },
   "file_extension": ".py",
   "mimetype": "text/x-python",
   "name": "python",
   "nbconvert_exporter": "python",
   "pygments_lexer": "ipython3",
   "version": "3.7.3"
  }
 },
 "nbformat": 4,
 "nbformat_minor": 2
}
