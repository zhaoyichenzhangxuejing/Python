{
 "cells": [
  {
   "cell_type": "code",
   "execution_count": 1,
   "metadata": {},
   "outputs": [
    {
     "name": "stdout",
     "output_type": "stream",
     "text": [
      "109.4\n"
     ]
    }
   ],
   "source": [
    "#编写一个从控制台读取摄氏温度并将它转化为华氏温度\n",
    "celsius = 43\n",
    "fahrenheit = (9/5)*celsius+32\n",
    "print(fahrenheit)"
   ]
  },
  {
   "cell_type": "code",
   "execution_count": 2,
   "metadata": {},
   "outputs": [
    {
     "name": "stdout",
     "output_type": "stream",
     "text": [
      "95.033158 1140.397896\n"
     ]
    }
   ],
   "source": [
    "#编写一个读取圆柱的半径和高并计算圆柱体底面积和体积\n",
    "radius,length = 5.5,12\n",
    "area = radius*radius*3.141592\n",
    "volume = area*length\n",
    "print(area,volume)"
   ]
  },
  {
   "cell_type": "code",
   "execution_count": 3,
   "metadata": {},
   "outputs": [
    {
     "name": "stdout",
     "output_type": "stream",
     "text": [
      "5.0325\n"
     ]
    }
   ],
   "source": [
    "#编写一个程序，它读取英尺数然后将它转换成米数并显示结果\n",
    "feet = 16.5\n",
    "feets = feet*0.305\n",
    "print(feets)"
   ]
  },
  {
   "cell_type": "code",
   "execution_count": 4,
   "metadata": {},
   "outputs": [
    {
     "name": "stdout",
     "output_type": "stream",
     "text": [
      "1625484.0\n"
     ]
    }
   ],
   "source": [
    "#编写一个程序，计算将水从初始温度加热到最终温度所需的能量\n",
    "M = 55.5\n",
    "finalTemperature = 10.5\n",
    "initialTemperature = 3.5\n",
    "Q = M*(finalTemperature-initialTemperature)*4184\n",
    "print(Q)"
   ]
  },
  {
   "cell_type": "code",
   "execution_count": 5,
   "metadata": {},
   "outputs": [
    {
     "name": "stdout",
     "output_type": "stream",
     "text": [
      "2.916666666666667\n"
     ]
    }
   ],
   "source": [
    "#编写一个读取差额和年利率，然后显示下月要付利息的程序\n",
    "balance = 1000\n",
    "interestRate = 3.5\n",
    "interest = balance*(interestRate/1200)\n",
    "print(interest)"
   ]
  },
  {
   "cell_type": "code",
   "execution_count": 6,
   "metadata": {},
   "outputs": [
    {
     "name": "stdout",
     "output_type": "stream",
     "text": [
      "10.088888888888889\n"
     ]
    }
   ],
   "source": [
    "#编写一个程序，提示用户输入以米每秒为单位的初始速度和末速度，以秒为单位速度变化所占用的时间，然后显示平均加速度\n",
    "v0,v1,t = 5.5,50.9,4.5\n",
    "a = (v1-v0)/t\n",
    "print(a)"
   ]
  },
  {
   "cell_type": "code",
   "execution_count": null,
   "metadata": {},
   "outputs": [],
   "source": []
  }
 ],
 "metadata": {
  "kernelspec": {
   "display_name": "Python 3",
   "language": "python",
   "name": "python3"
  },
  "language_info": {
   "codemirror_mode": {
    "name": "ipython",
    "version": 3
   },
   "file_extension": ".py",
   "mimetype": "text/x-python",
   "name": "python",
   "nbconvert_exporter": "python",
   "pygments_lexer": "ipython3",
   "version": "3.7.3"
  }
 },
 "nbformat": 4,
 "nbformat_minor": 2
}
