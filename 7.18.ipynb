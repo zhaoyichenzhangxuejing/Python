{
 "cells": [
  {
   "cell_type": "markdown",
   "metadata": {},
   "source": [
    "# 选择\n",
    "## 布尔类型、数值和表达式\n",
    "![](../Photo/33.png)\n",
    "- 注意：比较运算符的相等是两个等号，一个等到代表赋值\n",
    "- 在Python中可以用整型0来代表False，其他数字来代表True\n",
    "- 后面还会讲到 is 在判断语句中的用发"
   ]
  },
  {
   "cell_type": "markdown",
   "metadata": {},
   "source": [
    "## 字符串的比较使用ASCII值"
   ]
  },
  {
   "cell_type": "markdown",
   "metadata": {},
   "source": [
    "## Markdown \n",
    "- https://github.com/younghz/Markdown"
   ]
  },
  {
   "cell_type": "code",
   "execution_count": null,
   "metadata": {},
   "outputs": [],
   "source": []
  },
  {
   "cell_type": "markdown",
   "metadata": {},
   "source": [
    "## EP:\n",
    "- <img src=\"../Photo/34.png\"></img>\n",
    "- 输入一个数字，判断其实奇数还是偶数"
   ]
  },
  {
   "cell_type": "code",
   "execution_count": 24,
   "metadata": {},
   "outputs": [
    {
     "name": "stdout",
     "output_type": "stream",
     "text": [
      "请输入一个数8\n",
      "8 偶数\n"
     ]
    }
   ],
   "source": [
    "i = eval(input('请输入一个数'))\n",
    "if i%2==0:\n",
    "    print(i,'偶数')\n",
    "else:\n",
    "    print(i,'奇数')"
   ]
  },
  {
   "cell_type": "markdown",
   "metadata": {},
   "source": [
    "## 产生随机数字\n",
    "- 函数random.randint(a,b) 可以用来产生一个a和b之间且包括a和b的随机整数"
   ]
  },
  {
   "cell_type": "code",
   "execution_count": 45,
   "metadata": {},
   "outputs": [
    {
     "data": {
      "text/plain": [
       "3"
      ]
     },
     "execution_count": 45,
     "metadata": {},
     "output_type": "execute_result"
    }
   ],
   "source": [
    "import random\n",
    "random.randint(0,10)"
   ]
  },
  {
   "cell_type": "markdown",
   "metadata": {},
   "source": [
    "产生一个随机数，你去输入，如果你输入的数大于随机数，那么就告诉你太大了，反之，太小了，\n",
    "然后你一直输入，知道它满意为止"
   ]
  },
  {
   "cell_type": "code",
   "execution_count": 57,
   "metadata": {},
   "outputs": [],
   "source": [
    "x = random.randint(0,10)"
   ]
  },
  {
   "cell_type": "code",
   "execution_count": 64,
   "metadata": {},
   "outputs": [
    {
     "name": "stdout",
     "output_type": "stream",
     "text": [
      "请输入一个数10\n",
      "正确\n"
     ]
    }
   ],
   "source": [
    "i = eval(input('请输入一个数'))\n",
    "if i>x:\n",
    "    print('太大了')\n",
    "if i<x:\n",
    "    print('太小了')\n",
    "if i==x:\n",
    "    print('正确')"
   ]
  },
  {
   "cell_type": "markdown",
   "metadata": {},
   "source": [
    "##  其他random方法\n",
    "- random.random 返回0.0到1.0之间前闭后开区间的随机浮点\n",
    "- random.randrange(a,b) 前闭后开"
   ]
  },
  {
   "cell_type": "markdown",
   "metadata": {},
   "source": [
    "## EP：\n",
    "- 产生两个随机整数number1和number2，然后显示给用户，使用户输入数字的和，并判定其是否正确\n",
    "- 进阶:写一个随机序号点名程序"
   ]
  },
  {
   "cell_type": "code",
   "execution_count": 68,
   "metadata": {},
   "outputs": [
    {
     "name": "stdout",
     "output_type": "stream",
     "text": [
      "0 0\n"
     ]
    }
   ],
   "source": [
    "number1 = random.randint(0,10)\n",
    "number2 = random.randint(0,10)\n",
    "print(number1,number2)"
   ]
  },
  {
   "cell_type": "code",
   "execution_count": 69,
   "metadata": {},
   "outputs": [
    {
     "name": "stdout",
     "output_type": "stream",
     "text": [
      "x0\n",
      "correct\n"
     ]
    }
   ],
   "source": [
    "x = eval(input('x'))\n",
    "if x == (number1+number2):\n",
    "    print('correct')\n",
    "else:\n",
    "    print('error')"
   ]
  },
  {
   "cell_type": "code",
   "execution_count": 70,
   "metadata": {},
   "outputs": [
    {
     "name": "stdout",
     "output_type": "stream",
     "text": [
      "5 7\n"
     ]
    }
   ],
   "source": [
    "number1 = random.randint(0,10)\n",
    "number2 = random.randint(0,10)\n",
    "print(number1,number2)"
   ]
  },
  {
   "cell_type": "code",
   "execution_count": 72,
   "metadata": {},
   "outputs": [
    {
     "name": "stdout",
     "output_type": "stream",
     "text": [
      "x12\n",
      "correct\n"
     ]
    }
   ],
   "source": [
    "for i in range(5):\n",
    "    x = eval(input('x'))\n",
    "    if x == (number1+number2):\n",
    "        print('correct')\n",
    "        break\n",
    "    else:\n",
    "        print('error')"
   ]
  },
  {
   "cell_type": "markdown",
   "metadata": {},
   "source": [
    "## if语句\n",
    "- 如果条件正确就执行一个单向if语句，亦即当条件为真的时候才执行if内部的语句\n",
    "- Python有很多选择语句:\n",
    "> - 单向if \n",
    "  - 双向if-else\n",
    "  - 嵌套if\n",
    "  - 多向if-elif-else\n",
    "  \n",
    "- 注意：当语句含有子语句的时候，那么一定至少要有一个缩进，也就是说如果有儿子存在，那么一定要缩进\n",
    "- 切记不可tab键和space混用，单用tab 或者 space\n",
    "- 当你输出的结果是无论if是否为真时都需要显示时，语句应该与if对齐"
   ]
  },
  {
   "cell_type": "markdown",
   "metadata": {},
   "source": [
    "## EP：\n",
    "- 用户输入一个数字，判断其实奇数还是偶数\n",
    "- 进阶：可以查看下4.5实例研究猜生日"
   ]
  },
  {
   "cell_type": "markdown",
   "metadata": {},
   "source": [
    "## 双向if-else 语句\n",
    "- 如果条件为真，那么走if内部语句，否则走else内部语句"
   ]
  },
  {
   "cell_type": "code",
   "execution_count": 14,
   "metadata": {},
   "outputs": [
    {
     "name": "stdout",
     "output_type": "stream",
     "text": [
      "请问你有钱吗yes\n",
      "继续\n",
      "你帅么yes\n",
      "继续\n",
      "你有媳妇吗no\n",
      "好\n"
     ]
    }
   ],
   "source": [
    "a = input('请问你有钱吗')\n",
    "if a == ('yes'):\n",
    "    print(\"继续\")\n",
    "    b = input('你帅么')\n",
    "    if b == ('yes'):\n",
    "        print('继续')\n",
    "        c = input('你有媳妇吗')\n",
    "        if c == ('no'):\n",
    "            print('好')\n",
    "        else:\n",
    "            print('停止')\n",
    "    else:\n",
    "        print('停止')\n",
    "else:\n",
    "    print('停止')"
   ]
  },
  {
   "cell_type": "code",
   "execution_count": 5,
   "metadata": {},
   "outputs": [
    {
     "name": "stdout",
     "output_type": "stream",
     "text": [
      "请问你有钱吗,[0/1]1\n",
      "请问你帅吗,[0/1]1\n",
      "请问你有媳妇么,[0/1]0\n",
      "马上结婚\n"
     ]
    }
   ],
   "source": [
    "a = eval(input('请问你有钱吗,[0/1]'))\n",
    "b = eval(input('请问你帅吗,[0/1]'))\n",
    "c = eval(input('请问你有媳妇么,[0/1]'))\n",
    "\n",
    "x = a + b + c\n",
    "if x == 0:\n",
    "    print('停止')\n",
    "if x == 2:\n",
    "    if a == 0:\n",
    "        print('再见')\n",
    "    elif b == 0:\n",
    "        print('考虑一下')\n",
    "    elif c == 0:\n",
    "        print('马上结婚')\n",
    "elif x == 3:\n",
    "    print('有媳妇，也考虑一下')"
   ]
  },
  {
   "cell_type": "code",
   "execution_count": 6,
   "metadata": {},
   "outputs": [
    {
     "name": "stdout",
     "output_type": "stream",
     "text": [
      "请问你有钱吗,[0/1]1\n",
      "请问你帅吗,[0/1]1\n",
      "请问你有媳妇么,[0/1]0\n",
      "马上结婚\n"
     ]
    }
   ],
   "source": [
    "a = eval(input('请问你有钱吗,[0/1]'))\n",
    "if a == 1:\n",
    "    b = eval(input('请问你帅吗,[0/1]'))\n",
    "    if b == 1:\n",
    "        c = eval(input('请问你有媳妇么,[0/1]'))\n",
    "        if c == 1:\n",
    "            print('再见')\n",
    "        elif c == 0:\n",
    "            print('马上结婚')\n",
    "    elif b == 0:\n",
    "        print('考虑一下')\n",
    "elif a == 0:\n",
    "    print('再见')"
   ]
  },
  {
   "cell_type": "markdown",
   "metadata": {},
   "source": [
    "## EP：\n",
    "- 产生两个随机整数number1和number2，然后显示给用户，使用户输入数字，并判定其是否正确,如果正确打印“you‘re correct”，否则打印正确错误"
   ]
  },
  {
   "cell_type": "markdown",
   "metadata": {},
   "source": [
    "## 嵌套if 和多向if-elif-else\n",
    "![](../Photo/35.png)"
   ]
  },
  {
   "cell_type": "markdown",
   "metadata": {},
   "source": [
    "## EP：\n",
    "- 提示用户输入一个年份，然后显示表示这一年的动物\n",
    "![](../Photo/36.png)\n",
    "- 计算身体质量指数的程序\n",
    "- BMI = 以千克为单位的体重除以以米为单位的身高的平方\n",
    "![](../Photo/37.png)"
   ]
  },
  {
   "cell_type": "code",
   "execution_count": 9,
   "metadata": {},
   "outputs": [
    {
     "name": "stdout",
     "output_type": "stream",
     "text": [
      "身高1.65\n",
      "体重54.5\n",
      "标准\n"
     ]
    }
   ],
   "source": [
    "high = eval(input('身高'))\n",
    "weight = eval(input('体重'))\n",
    "BMI = weight / high ** 2\n",
    "if BMI < 18.5:\n",
    "    print('超轻')\n",
    "elif 18.5 <= BMI < 25.0:\n",
    "    print('标准')\n",
    "elif 25.0 <= BMI <30.0:\n",
    "    print('超重')\n",
    "elif 30.0 > BMI:\n",
    "    print('痴肥')"
   ]
  },
  {
   "cell_type": "code",
   "execution_count": 13,
   "metadata": {},
   "outputs": [
    {
     "name": "stdout",
     "output_type": "stream",
     "text": [
      "请输入年份1999\n",
      "兔\n",
      "1999\n"
     ]
    }
   ],
   "source": [
    "year = eval(input('请输入年份'))\n",
    "if year%12==0:\n",
    "    print('猴')\n",
    "elif year%12==1:\n",
    "    print('鸡')\n",
    "elif year%12==2:\n",
    "    print('狗')\n",
    "elif year%12==3:\n",
    "    print('猪')\n",
    "elif year%12==4:\n",
    "    print('鼠')\n",
    "elif year%12==5:\n",
    "    print('牛')\n",
    "elif year%12==6:\n",
    "    print('虎')\n",
    "elif year%12==7:\n",
    "    print('兔')\n",
    "elif year%12==8:\n",
    "    print('龙')\n",
    "elif year%12==9:\n",
    "    print('蛇')\n",
    "elif year%12==10:\n",
    "    print('马')\n",
    "elif year%12==11:\n",
    "    print('羊')\n",
    "print(year)"
   ]
  },
  {
   "cell_type": "markdown",
   "metadata": {},
   "source": [
    "## 逻辑运算符\n",
    "![](../Photo/38.png)"
   ]
  },
  {
   "cell_type": "markdown",
   "metadata": {},
   "source": [
    "![](../Photo/39.png)\n",
    "![](../Photo/40.png)"
   ]
  },
  {
   "cell_type": "markdown",
   "metadata": {},
   "source": [
    "## EP：\n",
    "- 判定闰年：一个年份如果能被4整除但不能被100整除，或者能被400整除，那么这个年份就是闰年\n",
    "- 提示用户输入一个年份，并返回是否是闰年\n",
    "- 提示用户输入一个数字，判断其是否为水仙花数"
   ]
  },
  {
   "cell_type": "code",
   "execution_count": 11,
   "metadata": {},
   "outputs": [
    {
     "name": "stdout",
     "output_type": "stream",
     "text": [
      "请输入年份2009\n",
      "平年\n"
     ]
    }
   ],
   "source": [
    "year = eval(input('请输入年份'))\n",
    "if (year%4==0 and year%100!=0) or (year%400==0):\n",
    "    print('闰年')\n",
    "else:\n",
    "    print('平年')"
   ]
  },
  {
   "cell_type": "code",
   "execution_count": 15,
   "metadata": {},
   "outputs": [
    {
     "name": "stdout",
     "output_type": "stream",
     "text": [
      "数字153\n",
      "水仙花数\n"
     ]
    }
   ],
   "source": [
    "number = eval(input('数字'))\n",
    "bai = number // 100\n",
    "shi = number // 10 %10\n",
    "ge = number % 10\n",
    "if bai ** 3 + shi ** 3 + ge ** 3 == number:\n",
    "    print('水仙花数')\n",
    "else:\n",
    "    print('不是水仙花数')"
   ]
  },
  {
   "cell_type": "code",
   "execution_count": 21,
   "metadata": {},
   "outputs": [
    {
     "name": "stdout",
     "output_type": "stream",
     "text": [
      "153 水仙花数\n",
      "370 水仙花数\n",
      "371 水仙花数\n",
      "407 水仙花数\n"
     ]
    }
   ],
   "source": [
    "for number in range(100,1000):\n",
    "    bai = number // 100\n",
    "    shi = number // 10 %10\n",
    "    ge = number % 10\n",
    "    \n",
    "    if bai ** 3 + shi ** 3 + ge ** 3 == number:\n",
    "        print(number,'水仙花数')"
   ]
  },
  {
   "cell_type": "markdown",
   "metadata": {},
   "source": [
    "## 实例研究：彩票\n",
    "![](../Photo/41.png)"
   ]
  },
  {
   "cell_type": "markdown",
   "metadata": {},
   "source": [
    "# Homework\n",
    "- 1\n",
    "![](../Photo/42.png)"
   ]
  },
  {
   "cell_type": "code",
   "execution_count": 1,
   "metadata": {},
   "outputs": [
    {
     "name": "stdout",
     "output_type": "stream",
     "text": [
      "请输入a,b,c三个值1,2.0,1\n",
      "方程有一个根 -1.0 -1.0\n",
      "请输入a,b,c三个值1.0,3,1\n",
      "方程有两个根 -0.3819660112501051 -2.618033988749895\n",
      "请输入a,b,c三个值1,2,3\n",
      "The equation has no real roots\n"
     ]
    }
   ],
   "source": [
    "for x in range(3):\n",
    "    import math\n",
    "    a,b,c = eval(input('请输入a,b,c三个值'))\n",
    "    x = b ** 2 - 4 * a * c\n",
    "    if x > 0:\n",
    "        r1 = (-1*b + math.sqrt(x))/2*a\n",
    "        r2 = (-1*b - math.sqrt(x))/2*a\n",
    "        print('方程有两个根',r1,r2)\n",
    "    elif x == 0:\n",
    "        r1 = (-1*b + math.sqrt(x))/2*a\n",
    "        r2 = (-1*b - math.sqrt(x))/2*a\n",
    "        print('方程有一个根',r1,r2)\n",
    "    elif x < 0:\n",
    "        print('The equation has no real roots')"
   ]
  },
  {
   "cell_type": "markdown",
   "metadata": {},
   "source": [
    "- 2\n",
    "![](../Photo/43.png)"
   ]
  },
  {
   "cell_type": "code",
   "execution_count": 73,
   "metadata": {},
   "outputs": [
    {
     "name": "stdout",
     "output_type": "stream",
     "text": [
      "79 79\n"
     ]
    }
   ],
   "source": [
    "a = random.randint(0,99)\n",
    "b = random.randint(0,99)\n",
    "print(a,b)"
   ]
  },
  {
   "cell_type": "code",
   "execution_count": 75,
   "metadata": {},
   "outputs": [
    {
     "name": "stdout",
     "output_type": "stream",
     "text": [
      "i79\n",
      "error\n"
     ]
    }
   ],
   "source": [
    "x = eval(input('i'))\n",
    "if i == (a+b):\n",
    "    print('correct')\n",
    "else:\n",
    "    print('error')"
   ]
  },
  {
   "cell_type": "markdown",
   "metadata": {},
   "source": [
    "- 3\n",
    "![](../Photo/44.png)"
   ]
  },
  {
   "cell_type": "code",
   "execution_count": 13,
   "metadata": {},
   "outputs": [
    {
     "name": "stdout",
     "output_type": "stream",
     "text": [
      "请输入表示今天是一周内哪一天的数字:1\n",
      "请输入表示今天之后到未来某天的天数:3\n",
      "4\n",
      "请输入表示今天是一周内哪一天的数字:0\n",
      "请输入表示今天之后到未来某天的天数:31\n",
      "3\n"
     ]
    }
   ],
   "source": [
    "for i in range(2):\n",
    "    day = eval(input(\"请输入表示今天是一周内哪一天的数字:\"))\n",
    "    future = eval(input(\"请输入表示今天之后到未来某天的天数:\"))\n",
    "    i = (day + future)%7\n",
    "    print(i)"
   ]
  },
  {
   "cell_type": "markdown",
   "metadata": {},
   "source": [
    "- 4\n",
    "![](../Photo/45.png)"
   ]
  },
  {
   "cell_type": "code",
   "execution_count": 16,
   "metadata": {},
   "outputs": [
    {
     "name": "stdout",
     "output_type": "stream",
     "text": [
      "请输入第一个整数：5\n",
      "请输入第二个整数：8\n",
      "请输入第三个整数：3\n",
      "3 5 8\n"
     ]
    }
   ],
   "source": [
    "a = int(input('请输入第一个整数：'))\n",
    "b = int(input('请输入第二个整数：'))\n",
    "c = int(input('请输入第三个整数：'))\n",
    "if a >  b > c:\n",
    "     print(c,b,a)\n",
    "elif a > c > b:\n",
    "    print(b,c,a)\n",
    "elif b > a > c:\n",
    "    print(c,a,b)\n",
    "elif b > c > a:\n",
    "    print(a,c,b)\n",
    "elif c > a > b:\n",
    "    print(b,a,c)\n",
    "else:\n",
    "    print(a,b,c)"
   ]
  },
  {
   "cell_type": "markdown",
   "metadata": {},
   "source": [
    "- 5\n",
    "![](../Photo/46.png)"
   ]
  },
  {
   "cell_type": "code",
   "execution_count": 18,
   "metadata": {},
   "outputs": [
    {
     "name": "stdout",
     "output_type": "stream",
     "text": [
      "请输入第一种的重量和价格：50,24.59\n",
      "请输入第二种的重量和价格：25,11.99\n",
      "第2包装种更好\n"
     ]
    }
   ],
   "source": [
    "weight1,package1=eval(input('请输入第一种的重量和价格：'))\n",
    "weight2,package2=eval(input('请输入第二种的重量和价格：'))\n",
    "res1 = weight1 * package1\n",
    "res2 = weight2 * package2\n",
    "if res1<res2:\n",
    "    print(\"第1包装种更好\")\n",
    "else:\n",
    "    print(\"第2包装种更好\")"
   ]
  },
  {
   "cell_type": "markdown",
   "metadata": {},
   "source": [
    "- 6\n",
    "![](../Photo/47.png)"
   ]
  },
  {
   "cell_type": "code",
   "execution_count": 36,
   "metadata": {},
   "outputs": [
    {
     "name": "stdout",
     "output_type": "stream",
     "text": [
      "请输入月份: 2\n",
      "请输入年份: 1212\n",
      "本月29天\n",
      "本月28天\n"
     ]
    }
   ],
   "source": [
    "month = eval(input(\"请输入月份: \"))\n",
    "year = eval(input(\"请输入年份: \"))\n",
    "runnian = (year%4==0 and year%100!=0) or (year%400==0)\n",
    "if (month != 2):\n",
    "        if ((month ==1 or  month == 3 or month == 5 or month ==7)or (month ==8 or month == 12)):\n",
    "            print('本月31天')\n",
    "        else:\n",
    "            print('本月30天')\n",
    "else:\n",
    "            print('本月29天')\n",
    "if (month != 2):\n",
    "        if ((month ==1 or  month == 3 or month == 5 or month ==7)or (month ==8 or month == 12)):\n",
    "            print('本月31天')\n",
    "        else:\n",
    "            print('本月30天')\n",
    "else:\n",
    "            print('本月28天')"
   ]
  },
  {
   "cell_type": "markdown",
   "metadata": {},
   "source": [
    "- 7\n",
    "![](../Photo/48.png)"
   ]
  },
  {
   "cell_type": "code",
   "execution_count": 38,
   "metadata": {},
   "outputs": [
    {
     "name": "stdout",
     "output_type": "stream",
     "text": [
      "猜测硬币是正面还是反面(0/1);0\n",
      "正确\n"
     ]
    }
   ],
   "source": [
    "import random\n",
    "number = random.randint(0,1)\n",
    "money=eval(input('猜测硬币是正面还是反面(0/1);'))\n",
    "if number==money:\n",
    "    print('正确')\n",
    "else:\n",
    "    print('错误')"
   ]
  },
  {
   "cell_type": "markdown",
   "metadata": {},
   "source": [
    "- 8\n",
    "![](../Photo/49.png)"
   ]
  },
  {
   "cell_type": "code",
   "execution_count": 40,
   "metadata": {},
   "outputs": [
    {
     "name": "stdout",
     "output_type": "stream",
     "text": [
      "0（剪刀），1（石头）或2（布）： 2\n",
      "电脑赢了\n"
     ]
    }
   ],
   "source": [
    "import random\n",
    "num = random.randint(0,2)\n",
    "num1 = eval(input('0（剪刀），1（石头）或2（布）： '))\n",
    "if (num1==0 and num==0) or (num1==1 and num==1) or (num1==2 and num==2):\n",
    "    print(\"平局\")\n",
    "elif (num1==0 and num==1) or (num1==1 and num == 2) or (num1==2 and num == 0):\n",
    "    print(\"电脑赢了\")\n",
    "elif (num1==0 and num==2) or (num1==1 and num == 0) or (num1==2 and num == 1):\n",
    "    print(\"你赢了\")"
   ]
  },
  {
   "cell_type": "markdown",
   "metadata": {},
   "source": [
    "- 9\n",
    "![](../Photo/50.png)"
   ]
  },
  {
   "cell_type": "code",
   "execution_count": null,
   "metadata": {},
   "outputs": [],
   "source": []
  },
  {
   "cell_type": "markdown",
   "metadata": {},
   "source": [
    "- 10\n",
    "![](../Photo/51.png)"
   ]
  },
  {
   "cell_type": "code",
   "execution_count": 41,
   "metadata": {},
   "outputs": [
    {
     "name": "stdout",
     "output_type": "stream",
     "text": [
      "梅花6\n"
     ]
    }
   ],
   "source": [
    "import random\n",
    "color = random.randint(0,4)\n",
    "value = random.randint(0,12)\n",
    "huase = ['黑桃','红桃','方块','梅花','王']\n",
    "card = ['A','2','3','4','5','6','7','8','9','10','J','Q','K']\n",
    "print(huase[color]+card[value])"
   ]
  },
  {
   "cell_type": "markdown",
   "metadata": {},
   "source": [
    "- 11\n",
    "![](../Photo/52.png)"
   ]
  },
  {
   "cell_type": "code",
   "execution_count": 42,
   "metadata": {},
   "outputs": [
    {
     "name": "stdout",
     "output_type": "stream",
     "text": [
      "请输入一个整数121\n",
      "121 is a palindrome\n"
     ]
    }
   ],
   "source": [
    "num = input('请输入一个整数')\n",
    "num = num[::-1]\n",
    "if num == num:\n",
    "    print(num,\"is a palindrome\")\n",
    "else:\n",
    "    print(num,\"is not a palindrome\")"
   ]
  },
  {
   "cell_type": "markdown",
   "metadata": {},
   "source": [
    "- 12\n",
    "![](../Photo/53.png)"
   ]
  },
  {
   "cell_type": "code",
   "execution_count": 45,
   "metadata": {},
   "outputs": [
    {
     "name": "stdout",
     "output_type": "stream",
     "text": [
      "请输入三角形的三个边长1,2,3,\n",
      "不是三角形\n"
     ]
    }
   ],
   "source": [
    "a,b,c = eval(input('请输入三角形的三个边长'))\n",
    "if (a+b)>c and (a+c)>b and (c+b)>a:\n",
    "    zhouchang = a+b+c\n",
    "    print(zhouchang)\n",
    "else:\n",
    "    print('不是三角形')"
   ]
  },
  {
   "cell_type": "code",
   "execution_count": null,
   "metadata": {},
   "outputs": [],
   "source": []
  }
 ],
 "metadata": {
  "kernelspec": {
   "display_name": "Python 3",
   "language": "python",
   "name": "python3"
  },
  "language_info": {
   "codemirror_mode": {
    "name": "ipython",
    "version": 3
   },
   "file_extension": ".py",
   "mimetype": "text/x-python",
   "name": "python",
   "nbconvert_exporter": "python",
   "pygments_lexer": "ipython3",
   "version": "3.7.3"
  }
 },
 "nbformat": 4,
 "nbformat_minor": 2
}
